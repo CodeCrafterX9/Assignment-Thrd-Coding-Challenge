{
  "metadata": {
    "kernelspec": {
      "name": "python",
      "display_name": "Python (Pyodide)",
      "language": "python"
    },
    "language_info": {
      "codemirror_mode": {
        "name": "python",
        "version": 3
      },
      "file_extension": ".py",
      "mimetype": "text/x-python",
      "name": "python",
      "nbconvert_exporter": "python",
      "pygments_lexer": "ipython3",
      "version": "3.8"
    }
  },
  "nbformat_minor": 5,
  "nbformat": 4,
  "cells": [
    {
      "id": "64906cb7-0000-4192-af51-5dac31276d38",
      "cell_type": "code",
      "source": "import pandas as pd\nimport numpy as np",
      "metadata": {
        "trusted": true
      },
      "outputs": [],
      "execution_count": 1
    },
    {
      "id": "368a9a2d-ca35-4dac-98a8-ecb831a4a415",
      "cell_type": "code",
      "source": "products_df = pd.read_csv(\"products.csv\")\nsales_df = pd.read_csv(\"sales.csv\")",
      "metadata": {
        "trusted": true
      },
      "outputs": [],
      "execution_count": 2
    },
    {
      "id": "e4c52fa3-bb4d-4852-82b2-0ff48f65011b",
      "cell_type": "code",
      "source": "products_df.head(10)",
      "metadata": {
        "trusted": true
      },
      "outputs": [
        {
          "execution_count": 4,
          "output_type": "execute_result",
          "data": {
            "text/plain": "    sku    name  current_price  cost_price  stock\n0  A123  Item A         649.99         500    150\n1  B456  Item B         699.00         550     15\n2  C789  Item C         999.00         500    250",
            "text/html": "<div>\n<style scoped>\n    .dataframe tbody tr th:only-of-type {\n        vertical-align: middle;\n    }\n\n    .dataframe tbody tr th {\n        vertical-align: top;\n    }\n\n    .dataframe thead th {\n        text-align: right;\n    }\n</style>\n<table border=\"1\" class=\"dataframe\">\n  <thead>\n    <tr style=\"text-align: right;\">\n      <th></th>\n      <th>sku</th>\n      <th>name</th>\n      <th>current_price</th>\n      <th>cost_price</th>\n      <th>stock</th>\n    </tr>\n  </thead>\n  <tbody>\n    <tr>\n      <th>0</th>\n      <td>A123</td>\n      <td>Item A</td>\n      <td>649.99</td>\n      <td>500</td>\n      <td>150</td>\n    </tr>\n    <tr>\n      <th>1</th>\n      <td>B456</td>\n      <td>Item B</td>\n      <td>699.00</td>\n      <td>550</td>\n      <td>15</td>\n    </tr>\n    <tr>\n      <th>2</th>\n      <td>C789</td>\n      <td>Item C</td>\n      <td>999.00</td>\n      <td>500</td>\n      <td>250</td>\n    </tr>\n  </tbody>\n</table>\n</div>"
          },
          "metadata": {}
        }
      ],
      "execution_count": 4
    },
    {
      "id": "6a475c7d-6962-4cec-a41d-616c089f70fc",
      "cell_type": "code",
      "source": "sales_df.head(10)",
      "metadata": {
        "trusted": true
      },
      "outputs": [
        {
          "execution_count": 5,
          "output_type": "execute_result",
          "data": {
            "text/plain": "    sku  quantity_sold\n0  A123             10\n1  B456             35\n2  C789              0",
            "text/html": "<div>\n<style scoped>\n    .dataframe tbody tr th:only-of-type {\n        vertical-align: middle;\n    }\n\n    .dataframe tbody tr th {\n        vertical-align: top;\n    }\n\n    .dataframe thead th {\n        text-align: right;\n    }\n</style>\n<table border=\"1\" class=\"dataframe\">\n  <thead>\n    <tr style=\"text-align: right;\">\n      <th></th>\n      <th>sku</th>\n      <th>quantity_sold</th>\n    </tr>\n  </thead>\n  <tbody>\n    <tr>\n      <th>0</th>\n      <td>A123</td>\n      <td>10</td>\n    </tr>\n    <tr>\n      <th>1</th>\n      <td>B456</td>\n      <td>35</td>\n    </tr>\n    <tr>\n      <th>2</th>\n      <td>C789</td>\n      <td>0</td>\n    </tr>\n  </tbody>\n</table>\n</div>"
          },
          "metadata": {}
        }
      ],
      "execution_count": 5
    },
    {
      "id": "313040e2-dfd4-4c12-bc21-e662bc4a9cd2",
      "cell_type": "code",
      "source": "merged_df = pd.merge(products_df, sales_df, on=\"sku\", how=\"left\")",
      "metadata": {
        "trusted": true
      },
      "outputs": [],
      "execution_count": 6
    },
    {
      "id": "5c17fd5b-0dda-4a35-91fe-3ff07c3ff3fa",
      "cell_type": "code",
      "source": "def apply_pricing_rules(row):\n    current_price = row['current_price']\n    cost_price = row['cost_price']\n    stock = row['stock']\n    quantity_sold = row['quantity_sold']\n    \n    if stock < 20 and quantity_sold > 30:\n        # Rule 1 – Low Stock, High Demand\n        new_price = current_price * 1.15\n    elif stock > 200 and quantity_sold == 0:\n        # Rule 2 – Dead Stock\n        new_price = current_price * 0.70\n    elif stock > 100 and quantity_sold < 20:\n        # Rule 3 – Overstocked Inventory\n        new_price = current_price * 0.90\n    else:\n        new_price = current_price\n        minimum_price = cost_price * 1.20\n        if new_price < minimum_price:\n            new_price = minimum_price\n\n    return round(new_price, 2)\n",
      "metadata": {
        "trusted": true
      },
      "outputs": [],
      "execution_count": 11
    },
    {
      "id": "b387d29f-97b7-4093-b5ff-02bea0230a73",
      "cell_type": "code",
      "source": "merged_df['new_price'] = merged_df.apply(apply_pricing_rules, axis=1)",
      "metadata": {
        "trusted": true
      },
      "outputs": [],
      "execution_count": 12
    },
    {
      "id": "885a12bd-164a-44e5-b4fd-5be88d49514f",
      "cell_type": "code",
      "source": "merged_df.head(10)",
      "metadata": {
        "trusted": true
      },
      "outputs": [
        {
          "execution_count": 13,
          "output_type": "execute_result",
          "data": {
            "text/plain": "    sku    name  current_price  cost_price  stock  quantity_sold  new_price  \\\n0  A123  Item A         649.99         500    150             10     584.99   \n1  B456  Item B         699.00         550     15             35     803.85   \n2  C789  Item C         999.00         500    250              0     699.30   \n\n  old_price  \n0   $649.99  \n1   $699.00  \n2   $999.00  ",
            "text/html": "<div>\n<style scoped>\n    .dataframe tbody tr th:only-of-type {\n        vertical-align: middle;\n    }\n\n    .dataframe tbody tr th {\n        vertical-align: top;\n    }\n\n    .dataframe thead th {\n        text-align: right;\n    }\n</style>\n<table border=\"1\" class=\"dataframe\">\n  <thead>\n    <tr style=\"text-align: right;\">\n      <th></th>\n      <th>sku</th>\n      <th>name</th>\n      <th>current_price</th>\n      <th>cost_price</th>\n      <th>stock</th>\n      <th>quantity_sold</th>\n      <th>new_price</th>\n      <th>old_price</th>\n    </tr>\n  </thead>\n  <tbody>\n    <tr>\n      <th>0</th>\n      <td>A123</td>\n      <td>Item A</td>\n      <td>649.99</td>\n      <td>500</td>\n      <td>150</td>\n      <td>10</td>\n      <td>584.99</td>\n      <td>$649.99</td>\n    </tr>\n    <tr>\n      <th>1</th>\n      <td>B456</td>\n      <td>Item B</td>\n      <td>699.00</td>\n      <td>550</td>\n      <td>15</td>\n      <td>35</td>\n      <td>803.85</td>\n      <td>$699.00</td>\n    </tr>\n    <tr>\n      <th>2</th>\n      <td>C789</td>\n      <td>Item C</td>\n      <td>999.00</td>\n      <td>500</td>\n      <td>250</td>\n      <td>0</td>\n      <td>699.30</td>\n      <td>$999.00</td>\n    </tr>\n  </tbody>\n</table>\n</div>"
          },
          "metadata": {}
        }
      ],
      "execution_count": 13
    },
    {
      "id": "e8049636-ff61-42d7-8791-3bd6836b3bf4",
      "cell_type": "code",
      "source": "merged_df[\"old_price\"] = merged_df[\"current_price\"].apply(lambda x: f\"${x:.2f}\")\nmerged_df[\"new_price\"] = merged_df[\"new_price\"].apply(lambda x: f\"${x:.2f}\")\n\noutput_df = merged_df[[\"sku\", \"old_price\", \"new_price\"]]\n\noutput_df.to_csv(\"updated_prices.csv\", index=False)\n\nprint(\"Output saved to 'updated_prices.csv'\")\n",
      "metadata": {
        "trusted": true
      },
      "outputs": [
        {
          "name": "stdout",
          "output_type": "stream",
          "text": "Output saved to 'updated_prices.csv'\n"
        }
      ],
      "execution_count": 14
    },
    {
      "id": "d79227d1-1d37-4430-8585-ef0843832959",
      "cell_type": "code",
      "source": "output_df.head()",
      "metadata": {
        "trusted": true
      },
      "outputs": [
        {
          "execution_count": 15,
          "output_type": "execute_result",
          "data": {
            "text/plain": "    sku old_price new_price\n0  A123   $649.99   $584.99\n1  B456   $699.00   $803.85\n2  C789   $999.00   $699.30",
            "text/html": "<div>\n<style scoped>\n    .dataframe tbody tr th:only-of-type {\n        vertical-align: middle;\n    }\n\n    .dataframe tbody tr th {\n        vertical-align: top;\n    }\n\n    .dataframe thead th {\n        text-align: right;\n    }\n</style>\n<table border=\"1\" class=\"dataframe\">\n  <thead>\n    <tr style=\"text-align: right;\">\n      <th></th>\n      <th>sku</th>\n      <th>old_price</th>\n      <th>new_price</th>\n    </tr>\n  </thead>\n  <tbody>\n    <tr>\n      <th>0</th>\n      <td>A123</td>\n      <td>$649.99</td>\n      <td>$584.99</td>\n    </tr>\n    <tr>\n      <th>1</th>\n      <td>B456</td>\n      <td>$699.00</td>\n      <td>$803.85</td>\n    </tr>\n    <tr>\n      <th>2</th>\n      <td>C789</td>\n      <td>$999.00</td>\n      <td>$699.30</td>\n    </tr>\n  </tbody>\n</table>\n</div>"
          },
          "metadata": {}
        }
      ],
      "execution_count": 15
    },
    {
      "id": "349b8274-c127-403e-b47c-3b25a613fe49",
      "cell_type": "code",
      "source": "",
      "metadata": {
        "trusted": true
      },
      "outputs": [],
      "execution_count": null
    }
  ]
}